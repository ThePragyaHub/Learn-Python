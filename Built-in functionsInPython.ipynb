{
 "cells": [
  {
   "cell_type": "code",
   "execution_count": 1,
   "id": "ba46fa2b-b73f-401b-bf10-b7a557493896",
   "metadata": {},
   "outputs": [
    {
     "data": {
      "text/plain": [
       "'Hello world'"
      ]
     },
     "execution_count": 1,
     "metadata": {},
     "output_type": "execute_result"
    }
   ],
   "source": [
    "\"Hello world\""
   ]
  },
  {
   "cell_type": "code",
   "execution_count": 2,
   "id": "a3ccd8df-0852-4852-8dc8-424c4d3cfaf6",
   "metadata": {},
   "outputs": [
    {
     "name": "stdout",
     "output_type": "stream",
     "text": [
      "Hello pragya\n"
     ]
    }
   ],
   "source": [
    "print (\"Hello pragya\")"
   ]
  },
  {
   "cell_type": "code",
   "execution_count": 4,
   "id": "3653cbff-c53f-48fe-88bb-efbff6f49ce0",
   "metadata": {},
   "outputs": [
    {
     "name": "stdout",
     "output_type": "stream",
     "text": [
      "Hello pragya\n"
     ]
    }
   ],
   "source": [
    "print ('Hello pragya') "
   ]
  },
  {
   "cell_type": "code",
   "execution_count": 7,
   "id": "2f5586e2-1cb4-4819-b2a4-0703fc766be0",
   "metadata": {},
   "outputs": [],
   "source": [
    "#let's use the len function, which is a built in function in python. It tells us the length of the character"
   ]
  },
  {
   "cell_type": "code",
   "execution_count": 5,
   "id": "e4d0486d-8060-4c9a-aeff-31660e41010f",
   "metadata": {},
   "outputs": [
    {
     "data": {
      "text/plain": [
       "12"
      ]
     },
     "execution_count": 5,
     "metadata": {},
     "output_type": "execute_result"
    }
   ],
   "source": [
    "len(\"Hello pragya\") "
   ]
  },
  {
   "cell_type": "code",
   "execution_count": 8,
   "id": "76f3f143-79fe-4d44-8825-34756154dbdc",
   "metadata": {},
   "outputs": [
    {
     "data": {
      "text/plain": [
       "1"
      ]
     },
     "execution_count": 8,
     "metadata": {},
     "output_type": "execute_result"
    }
   ],
   "source": [
    "len(\"4\")"
   ]
  },
  {
   "cell_type": "code",
   "execution_count": null,
   "id": "941eacb5-51f0-4acd-b0a9-2c39f39ad478",
   "metadata": {},
   "outputs": [],
   "source": [
    "#Now let's use the abs built in function and see how it works"
   ]
  },
  {
   "cell_type": "code",
   "execution_count": 9,
   "id": "12da7b89-6f7d-4c3a-b11f-f3da3bd8a6ac",
   "metadata": {},
   "outputs": [
    {
     "data": {
      "text/plain": [
       "12"
      ]
     },
     "execution_count": 9,
     "metadata": {},
     "output_type": "execute_result"
    }
   ],
   "source": [
    "abs(12)"
   ]
  },
  {
   "cell_type": "code",
   "execution_count": 11,
   "id": "6d1fb162-47d2-4f36-b0fa-63e32698f70a",
   "metadata": {},
   "outputs": [
    {
     "data": {
      "text/plain": [
       "16"
      ]
     },
     "execution_count": 11,
     "metadata": {},
     "output_type": "execute_result"
    }
   ],
   "source": [
    "abs (-16)"
   ]
  },
  {
   "cell_type": "code",
   "execution_count": null,
   "id": "fc82946c-66f2-4fb5-8f3a-db00b0227db7",
   "metadata": {},
   "outputs": [],
   "source": [
    "#The next function is the Type function, I find it very useful, let's try"
   ]
  },
  {
   "cell_type": "code",
   "execution_count": 12,
   "id": "16ad2fc1-e35d-4e2b-882e-70dc29949931",
   "metadata": {},
   "outputs": [
    {
     "data": {
      "text/plain": [
       "float"
      ]
     },
     "execution_count": 12,
     "metadata": {},
     "output_type": "execute_result"
    }
   ],
   "source": [
    "type (4.0)"
   ]
  },
  {
   "cell_type": "code",
   "execution_count": 13,
   "id": "ace48a8c-6699-4955-a383-8179ddf730e7",
   "metadata": {},
   "outputs": [
    {
     "data": {
      "text/plain": [
       "int"
      ]
     },
     "execution_count": 13,
     "metadata": {},
     "output_type": "execute_result"
    }
   ],
   "source": [
    "type(5+4)"
   ]
  },
  {
   "cell_type": "code",
   "execution_count": 16,
   "id": "b12604b7-9ff5-489c-8f65-1461f53d991f",
   "metadata": {},
   "outputs": [
    {
     "data": {
      "text/plain": [
       "bool"
      ]
     },
     "execution_count": 16,
     "metadata": {},
     "output_type": "execute_result"
    }
   ],
   "source": [
    "type(True)    #here I made a mistake by typing True as true (used T in small and got an error, but thanks to anaconda AI for correcting me.)"
   ]
  },
  {
   "cell_type": "code",
   "execution_count": 17,
   "id": "10e32e74-48df-4e81-b6ed-ff47c1b5dc72",
   "metadata": {},
   "outputs": [
    {
     "data": {
      "text/plain": [
       "bool"
      ]
     },
     "execution_count": 17,
     "metadata": {},
     "output_type": "execute_result"
    }
   ],
   "source": [
    "type (False)"
   ]
  },
  {
   "cell_type": "code",
   "execution_count": 18,
   "id": "6d5fff5f-41b8-49b2-bbf9-2394384e60c9",
   "metadata": {},
   "outputs": [
    {
     "data": {
      "text/plain": [
       "str"
      ]
     },
     "execution_count": 18,
     "metadata": {},
     "output_type": "execute_result"
    }
   ],
   "source": [
    "type (\"4+5\")"
   ]
  },
  {
   "cell_type": "code",
   "execution_count": 19,
   "id": "033e0d12-16fa-4ef9-a848-ff2311ae1006",
   "metadata": {},
   "outputs": [
    {
     "data": {
      "text/plain": [
       "str"
      ]
     },
     "execution_count": 19,
     "metadata": {},
     "output_type": "execute_result"
    }
   ],
   "source": [
    "type (\"my name is pragya\")"
   ]
  },
  {
   "cell_type": "code",
   "execution_count": null,
   "id": "8de75c04-2dcd-4a2b-b041-d886541f10ba",
   "metadata": {},
   "outputs": [],
   "source": [
    "#let's use the round function"
   ]
  },
  {
   "cell_type": "code",
   "execution_count": 20,
   "id": "aafd8576-542c-4b32-b426-fbc305691737",
   "metadata": {},
   "outputs": [
    {
     "data": {
      "text/plain": [
       "2"
      ]
     },
     "execution_count": 20,
     "metadata": {},
     "output_type": "execute_result"
    }
   ],
   "source": [
    "round(4/2)"
   ]
  },
  {
   "cell_type": "code",
   "execution_count": null,
   "id": "707f1150-1173-4078-a486-67c8d06e96e2",
   "metadata": {},
   "outputs": [],
   "source": [
    "#Max & Min function"
   ]
  },
  {
   "cell_type": "code",
   "execution_count": 21,
   "id": "dc98497d-e7c5-455f-820a-c411d4943921",
   "metadata": {},
   "outputs": [
    {
     "data": {
      "text/plain": [
       "9"
      ]
     },
     "execution_count": 21,
     "metadata": {},
     "output_type": "execute_result"
    }
   ],
   "source": [
    "max (4, 5, 8, 9)"
   ]
  },
  {
   "cell_type": "code",
   "execution_count": 23,
   "id": "08232002-a5a5-4e49-abd2-fc7a6f14fa24",
   "metadata": {},
   "outputs": [
    {
     "data": {
      "text/plain": [
       "6"
      ]
     },
     "execution_count": 23,
     "metadata": {},
     "output_type": "execute_result"
    }
   ],
   "source": [
    "min (6,8,9,8)"
   ]
  },
  {
   "cell_type": "code",
   "execution_count": null,
   "id": "052960a3-2351-40e1-868b-5a69310450af",
   "metadata": {},
   "outputs": [],
   "source": [
    "# Here we come to the end of today's learning"
   ]
  },
  {
   "cell_type": "code",
   "execution_count": null,
   "id": "0f11e44e-4a7c-4b80-88d2-03578f751a8b",
   "metadata": {},
   "outputs": [],
   "source": []
  },
  {
   "cell_type": "code",
   "execution_count": null,
   "id": "8d7b63cb-12ba-4754-8d4d-ce25e5d46d39",
   "metadata": {},
   "outputs": [],
   "source": []
  },
  {
   "cell_type": "code",
   "execution_count": null,
   "id": "4dac4e60-f1b8-4409-8781-dadff5f20c6b",
   "metadata": {},
   "outputs": [],
   "source": []
  },
  {
   "cell_type": "code",
   "execution_count": null,
   "id": "ad044898-bcd6-4d16-8f06-09bc590bd4aa",
   "metadata": {},
   "outputs": [],
   "source": []
  },
  {
   "cell_type": "code",
   "execution_count": null,
   "id": "8c0acce4-d992-4bca-bb3e-c8bb2aebefa3",
   "metadata": {},
   "outputs": [],
   "source": []
  }
 ],
 "metadata": {
  "kernelspec": {
   "display_name": "Python [conda env:base] *",
   "language": "python",
   "name": "conda-base-py"
  },
  "language_info": {
   "codemirror_mode": {
    "name": "ipython",
    "version": 3
   },
   "file_extension": ".py",
   "mimetype": "text/x-python",
   "name": "python",
   "nbconvert_exporter": "python",
   "pygments_lexer": "ipython3",
   "version": "3.12.7"
  }
 },
 "nbformat": 4,
 "nbformat_minor": 5
}
